{
 "cells": [
  {
   "cell_type": "code",
   "execution_count": null,
   "metadata": {},
   "outputs": [],
   "source": [
    "##\n",
    "##  Load packages.\n",
    "import pandas\n",
    "import os"
   ]
  },
  {
   "cell_type": "code",
   "execution_count": null,
   "metadata": {},
   "outputs": [],
   "source": [
    "##\n",
    "##  Storage folder.\n",
    "storage = './resource/kaggle/prototype/'\n",
    "os.makedirs(os.path.dirname(storage), exist_ok=True)"
   ]
  },
  {
   "cell_type": "code",
   "execution_count": null,
   "metadata": {},
   "outputs": [],
   "source": [
    "##\n",
    "##  Read sheets.\n",
    "path = [\n",
    "    './resource/kaggle/train.csv', \n",
    "    './resource/kaggle/test.csv', \n",
    "    './resource/kaggle/sample_submission.csv',\n",
    "    './resource/kaggle/historical_transactions.csv',\n",
    "    './resource/kaggle/new_merchant_transactions.csv',\n",
    "    './resource/kaggle/merchants.csv'\n",
    "]\n",
    "##  Read the table and set the all value with string type.\n",
    "sheet = {os.path.basename(p).split(\".\")[0]: pandas.read_csv(p, dtype=str) for p in path}"
   ]
  },
  {
   "cell_type": "code",
   "execution_count": null,
   "metadata": {},
   "outputs": [],
   "source": [
    "##\n",
    "##  Combine `train` and `test` together, save to `card`.\n",
    "table = {'train': sheet.get('train'), 'test': sheet.get('test')}\n",
    "table['test']['target'] = -10000\n",
    "table['train']['source'] = 'train'\n",
    "table['test']['source'] = 'test'\n",
    "table['card'] = pandas.concat([table['train'], table['test']], axis=0)\n",
    "table['card'].to_csv(os.path.join(storage, 'card.csv'), index=False)\n",
    "del table"
   ]
  },
  {
   "cell_type": "code",
   "execution_count": null,
   "metadata": {},
   "outputs": [],
   "source": []
  }
 ],
 "metadata": {
  "kernelspec": {
   "display_name": "Python 3.10.4 ('python')",
   "language": "python",
   "name": "python3"
  },
  "language_info": {
   "name": "python",
   "version": "3.10.4"
  },
  "orig_nbformat": 4,
  "vscode": {
   "interpreter": {
    "hash": "1190d3e707a3d424ac8b2d91fb0590b70ac2dd4441b85f1e8ca79378c16d95a8"
   }
  }
 },
 "nbformat": 4,
 "nbformat_minor": 2
}
